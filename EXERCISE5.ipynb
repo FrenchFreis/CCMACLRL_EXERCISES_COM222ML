{
  "cells": [
    {
      "cell_type": "markdown",
      "metadata": {
        "id": "view-in-github",
        "colab_type": "text"
      },
      "source": [
        "<a href=\"https://colab.research.google.com/github/FrenchFreis/CCMACLRL_EXERCISES_COM222ML/blob/main/EXERCISE5.ipynb\" target=\"_parent\"><img src=\"https://colab.research.google.com/assets/colab-badge.svg\" alt=\"Open In Colab\"/></a>"
      ]
    },
    {
      "cell_type": "markdown",
      "source": [
        "# Exercise 5"
      ],
      "metadata": {
        "id": "DzE0a2wse5_X"
      }
    },
    {
      "cell_type": "code",
      "execution_count": 3,
      "metadata": {
        "id": "1jGZ4ic7DRL-"
      },
      "outputs": [],
      "source": [
        "import pandas as pd\n",
        "import matplotlib.pyplot as plt\n",
        "import seaborn as sns\n",
        "from sklearn.linear_model import LinearRegression\n",
        "from scipy.stats import pearsonr\n",
        "import statsmodels.api as sm"
      ]
    },
    {
      "cell_type": "code",
      "execution_count": 4,
      "metadata": {
        "id": "ZWwABN_vDXoV"
      },
      "outputs": [],
      "source": [
        "df = pd.read_excel('traveldata.xlsx')"
      ]
    },
    {
      "cell_type": "code",
      "execution_count": 5,
      "metadata": {
        "id": "6uh5EWIaDaum",
        "colab": {
          "base_uri": "https://localhost:8080/",
          "height": 363
        },
        "outputId": "71efb3f5-9cb9-4cce-81d2-111dccda4c23"
      },
      "outputs": [
        {
          "output_type": "execute_result",
          "data": {
            "text/plain": [
              "   Miles Traveled  Number of Deliveries  Gas Price  Travel Time\n",
              "0              89                     4       3.84          7.0\n",
              "1              66                     1       3.19          5.4\n",
              "2              78                     3       3.78          6.6\n",
              "3             111                     6       3.89          7.4\n",
              "4              44                     1       3.57          4.8\n",
              "5              77                     3       3.57          6.4\n",
              "6              80                     3       3.03          7.0\n",
              "7              66                     2       3.51          5.6\n",
              "8             109                     5       3.54          7.3\n",
              "9              76                     3       3.25          6.4"
            ],
            "text/html": [
              "\n",
              "  <div id=\"df-8c01554b-c3c7-42b2-9a7d-2fb9b8ac8339\" class=\"colab-df-container\">\n",
              "    <div>\n",
              "<style scoped>\n",
              "    .dataframe tbody tr th:only-of-type {\n",
              "        vertical-align: middle;\n",
              "    }\n",
              "\n",
              "    .dataframe tbody tr th {\n",
              "        vertical-align: top;\n",
              "    }\n",
              "\n",
              "    .dataframe thead th {\n",
              "        text-align: right;\n",
              "    }\n",
              "</style>\n",
              "<table border=\"1\" class=\"dataframe\">\n",
              "  <thead>\n",
              "    <tr style=\"text-align: right;\">\n",
              "      <th></th>\n",
              "      <th>Miles Traveled</th>\n",
              "      <th>Number of Deliveries</th>\n",
              "      <th>Gas Price</th>\n",
              "      <th>Travel Time</th>\n",
              "    </tr>\n",
              "  </thead>\n",
              "  <tbody>\n",
              "    <tr>\n",
              "      <th>0</th>\n",
              "      <td>89</td>\n",
              "      <td>4</td>\n",
              "      <td>3.84</td>\n",
              "      <td>7.0</td>\n",
              "    </tr>\n",
              "    <tr>\n",
              "      <th>1</th>\n",
              "      <td>66</td>\n",
              "      <td>1</td>\n",
              "      <td>3.19</td>\n",
              "      <td>5.4</td>\n",
              "    </tr>\n",
              "    <tr>\n",
              "      <th>2</th>\n",
              "      <td>78</td>\n",
              "      <td>3</td>\n",
              "      <td>3.78</td>\n",
              "      <td>6.6</td>\n",
              "    </tr>\n",
              "    <tr>\n",
              "      <th>3</th>\n",
              "      <td>111</td>\n",
              "      <td>6</td>\n",
              "      <td>3.89</td>\n",
              "      <td>7.4</td>\n",
              "    </tr>\n",
              "    <tr>\n",
              "      <th>4</th>\n",
              "      <td>44</td>\n",
              "      <td>1</td>\n",
              "      <td>3.57</td>\n",
              "      <td>4.8</td>\n",
              "    </tr>\n",
              "    <tr>\n",
              "      <th>5</th>\n",
              "      <td>77</td>\n",
              "      <td>3</td>\n",
              "      <td>3.57</td>\n",
              "      <td>6.4</td>\n",
              "    </tr>\n",
              "    <tr>\n",
              "      <th>6</th>\n",
              "      <td>80</td>\n",
              "      <td>3</td>\n",
              "      <td>3.03</td>\n",
              "      <td>7.0</td>\n",
              "    </tr>\n",
              "    <tr>\n",
              "      <th>7</th>\n",
              "      <td>66</td>\n",
              "      <td>2</td>\n",
              "      <td>3.51</td>\n",
              "      <td>5.6</td>\n",
              "    </tr>\n",
              "    <tr>\n",
              "      <th>8</th>\n",
              "      <td>109</td>\n",
              "      <td>5</td>\n",
              "      <td>3.54</td>\n",
              "      <td>7.3</td>\n",
              "    </tr>\n",
              "    <tr>\n",
              "      <th>9</th>\n",
              "      <td>76</td>\n",
              "      <td>3</td>\n",
              "      <td>3.25</td>\n",
              "      <td>6.4</td>\n",
              "    </tr>\n",
              "  </tbody>\n",
              "</table>\n",
              "</div>\n",
              "    <div class=\"colab-df-buttons\">\n",
              "\n",
              "  <div class=\"colab-df-container\">\n",
              "    <button class=\"colab-df-convert\" onclick=\"convertToInteractive('df-8c01554b-c3c7-42b2-9a7d-2fb9b8ac8339')\"\n",
              "            title=\"Convert this dataframe to an interactive table.\"\n",
              "            style=\"display:none;\">\n",
              "\n",
              "  <svg xmlns=\"http://www.w3.org/2000/svg\" height=\"24px\" viewBox=\"0 -960 960 960\">\n",
              "    <path d=\"M120-120v-720h720v720H120Zm60-500h600v-160H180v160Zm220 220h160v-160H400v160Zm0 220h160v-160H400v160ZM180-400h160v-160H180v160Zm440 0h160v-160H620v160ZM180-180h160v-160H180v160Zm440 0h160v-160H620v160Z\"/>\n",
              "  </svg>\n",
              "    </button>\n",
              "\n",
              "  <style>\n",
              "    .colab-df-container {\n",
              "      display:flex;\n",
              "      gap: 12px;\n",
              "    }\n",
              "\n",
              "    .colab-df-convert {\n",
              "      background-color: #E8F0FE;\n",
              "      border: none;\n",
              "      border-radius: 50%;\n",
              "      cursor: pointer;\n",
              "      display: none;\n",
              "      fill: #1967D2;\n",
              "      height: 32px;\n",
              "      padding: 0 0 0 0;\n",
              "      width: 32px;\n",
              "    }\n",
              "\n",
              "    .colab-df-convert:hover {\n",
              "      background-color: #E2EBFA;\n",
              "      box-shadow: 0px 1px 2px rgba(60, 64, 67, 0.3), 0px 1px 3px 1px rgba(60, 64, 67, 0.15);\n",
              "      fill: #174EA6;\n",
              "    }\n",
              "\n",
              "    .colab-df-buttons div {\n",
              "      margin-bottom: 4px;\n",
              "    }\n",
              "\n",
              "    [theme=dark] .colab-df-convert {\n",
              "      background-color: #3B4455;\n",
              "      fill: #D2E3FC;\n",
              "    }\n",
              "\n",
              "    [theme=dark] .colab-df-convert:hover {\n",
              "      background-color: #434B5C;\n",
              "      box-shadow: 0px 1px 3px 1px rgba(0, 0, 0, 0.15);\n",
              "      filter: drop-shadow(0px 1px 2px rgba(0, 0, 0, 0.3));\n",
              "      fill: #FFFFFF;\n",
              "    }\n",
              "  </style>\n",
              "\n",
              "    <script>\n",
              "      const buttonEl =\n",
              "        document.querySelector('#df-8c01554b-c3c7-42b2-9a7d-2fb9b8ac8339 button.colab-df-convert');\n",
              "      buttonEl.style.display =\n",
              "        google.colab.kernel.accessAllowed ? 'block' : 'none';\n",
              "\n",
              "      async function convertToInteractive(key) {\n",
              "        const element = document.querySelector('#df-8c01554b-c3c7-42b2-9a7d-2fb9b8ac8339');\n",
              "        const dataTable =\n",
              "          await google.colab.kernel.invokeFunction('convertToInteractive',\n",
              "                                                    [key], {});\n",
              "        if (!dataTable) return;\n",
              "\n",
              "        const docLinkHtml = 'Like what you see? Visit the ' +\n",
              "          '<a target=\"_blank\" href=https://colab.research.google.com/notebooks/data_table.ipynb>data table notebook</a>'\n",
              "          + ' to learn more about interactive tables.';\n",
              "        element.innerHTML = '';\n",
              "        dataTable['output_type'] = 'display_data';\n",
              "        await google.colab.output.renderOutput(dataTable, element);\n",
              "        const docLink = document.createElement('div');\n",
              "        docLink.innerHTML = docLinkHtml;\n",
              "        element.appendChild(docLink);\n",
              "      }\n",
              "    </script>\n",
              "  </div>\n",
              "\n",
              "\n",
              "<div id=\"df-d52fbfba-f8cb-4333-8b60-cd8d7c88597a\">\n",
              "  <button class=\"colab-df-quickchart\" onclick=\"quickchart('df-d52fbfba-f8cb-4333-8b60-cd8d7c88597a')\"\n",
              "            title=\"Suggest charts\"\n",
              "            style=\"display:none;\">\n",
              "\n",
              "<svg xmlns=\"http://www.w3.org/2000/svg\" height=\"24px\"viewBox=\"0 0 24 24\"\n",
              "     width=\"24px\">\n",
              "    <g>\n",
              "        <path d=\"M19 3H5c-1.1 0-2 .9-2 2v14c0 1.1.9 2 2 2h14c1.1 0 2-.9 2-2V5c0-1.1-.9-2-2-2zM9 17H7v-7h2v7zm4 0h-2V7h2v10zm4 0h-2v-4h2v4z\"/>\n",
              "    </g>\n",
              "</svg>\n",
              "  </button>\n",
              "\n",
              "<style>\n",
              "  .colab-df-quickchart {\n",
              "      --bg-color: #E8F0FE;\n",
              "      --fill-color: #1967D2;\n",
              "      --hover-bg-color: #E2EBFA;\n",
              "      --hover-fill-color: #174EA6;\n",
              "      --disabled-fill-color: #AAA;\n",
              "      --disabled-bg-color: #DDD;\n",
              "  }\n",
              "\n",
              "  [theme=dark] .colab-df-quickchart {\n",
              "      --bg-color: #3B4455;\n",
              "      --fill-color: #D2E3FC;\n",
              "      --hover-bg-color: #434B5C;\n",
              "      --hover-fill-color: #FFFFFF;\n",
              "      --disabled-bg-color: #3B4455;\n",
              "      --disabled-fill-color: #666;\n",
              "  }\n",
              "\n",
              "  .colab-df-quickchart {\n",
              "    background-color: var(--bg-color);\n",
              "    border: none;\n",
              "    border-radius: 50%;\n",
              "    cursor: pointer;\n",
              "    display: none;\n",
              "    fill: var(--fill-color);\n",
              "    height: 32px;\n",
              "    padding: 0;\n",
              "    width: 32px;\n",
              "  }\n",
              "\n",
              "  .colab-df-quickchart:hover {\n",
              "    background-color: var(--hover-bg-color);\n",
              "    box-shadow: 0 1px 2px rgba(60, 64, 67, 0.3), 0 1px 3px 1px rgba(60, 64, 67, 0.15);\n",
              "    fill: var(--button-hover-fill-color);\n",
              "  }\n",
              "\n",
              "  .colab-df-quickchart-complete:disabled,\n",
              "  .colab-df-quickchart-complete:disabled:hover {\n",
              "    background-color: var(--disabled-bg-color);\n",
              "    fill: var(--disabled-fill-color);\n",
              "    box-shadow: none;\n",
              "  }\n",
              "\n",
              "  .colab-df-spinner {\n",
              "    border: 2px solid var(--fill-color);\n",
              "    border-color: transparent;\n",
              "    border-bottom-color: var(--fill-color);\n",
              "    animation:\n",
              "      spin 1s steps(1) infinite;\n",
              "  }\n",
              "\n",
              "  @keyframes spin {\n",
              "    0% {\n",
              "      border-color: transparent;\n",
              "      border-bottom-color: var(--fill-color);\n",
              "      border-left-color: var(--fill-color);\n",
              "    }\n",
              "    20% {\n",
              "      border-color: transparent;\n",
              "      border-left-color: var(--fill-color);\n",
              "      border-top-color: var(--fill-color);\n",
              "    }\n",
              "    30% {\n",
              "      border-color: transparent;\n",
              "      border-left-color: var(--fill-color);\n",
              "      border-top-color: var(--fill-color);\n",
              "      border-right-color: var(--fill-color);\n",
              "    }\n",
              "    40% {\n",
              "      border-color: transparent;\n",
              "      border-right-color: var(--fill-color);\n",
              "      border-top-color: var(--fill-color);\n",
              "    }\n",
              "    60% {\n",
              "      border-color: transparent;\n",
              "      border-right-color: var(--fill-color);\n",
              "    }\n",
              "    80% {\n",
              "      border-color: transparent;\n",
              "      border-right-color: var(--fill-color);\n",
              "      border-bottom-color: var(--fill-color);\n",
              "    }\n",
              "    90% {\n",
              "      border-color: transparent;\n",
              "      border-bottom-color: var(--fill-color);\n",
              "    }\n",
              "  }\n",
              "</style>\n",
              "\n",
              "  <script>\n",
              "    async function quickchart(key) {\n",
              "      const quickchartButtonEl =\n",
              "        document.querySelector('#' + key + ' button');\n",
              "      quickchartButtonEl.disabled = true;  // To prevent multiple clicks.\n",
              "      quickchartButtonEl.classList.add('colab-df-spinner');\n",
              "      try {\n",
              "        const charts = await google.colab.kernel.invokeFunction(\n",
              "            'suggestCharts', [key], {});\n",
              "      } catch (error) {\n",
              "        console.error('Error during call to suggestCharts:', error);\n",
              "      }\n",
              "      quickchartButtonEl.classList.remove('colab-df-spinner');\n",
              "      quickchartButtonEl.classList.add('colab-df-quickchart-complete');\n",
              "    }\n",
              "    (() => {\n",
              "      let quickchartButtonEl =\n",
              "        document.querySelector('#df-d52fbfba-f8cb-4333-8b60-cd8d7c88597a button');\n",
              "      quickchartButtonEl.style.display =\n",
              "        google.colab.kernel.accessAllowed ? 'block' : 'none';\n",
              "    })();\n",
              "  </script>\n",
              "</div>\n",
              "\n",
              "  <div id=\"id_03a06b2f-0a41-42ee-b4bd-a0d663fe25e9\">\n",
              "    <style>\n",
              "      .colab-df-generate {\n",
              "        background-color: #E8F0FE;\n",
              "        border: none;\n",
              "        border-radius: 50%;\n",
              "        cursor: pointer;\n",
              "        display: none;\n",
              "        fill: #1967D2;\n",
              "        height: 32px;\n",
              "        padding: 0 0 0 0;\n",
              "        width: 32px;\n",
              "      }\n",
              "\n",
              "      .colab-df-generate:hover {\n",
              "        background-color: #E2EBFA;\n",
              "        box-shadow: 0px 1px 2px rgba(60, 64, 67, 0.3), 0px 1px 3px 1px rgba(60, 64, 67, 0.15);\n",
              "        fill: #174EA6;\n",
              "      }\n",
              "\n",
              "      [theme=dark] .colab-df-generate {\n",
              "        background-color: #3B4455;\n",
              "        fill: #D2E3FC;\n",
              "      }\n",
              "\n",
              "      [theme=dark] .colab-df-generate:hover {\n",
              "        background-color: #434B5C;\n",
              "        box-shadow: 0px 1px 3px 1px rgba(0, 0, 0, 0.15);\n",
              "        filter: drop-shadow(0px 1px 2px rgba(0, 0, 0, 0.3));\n",
              "        fill: #FFFFFF;\n",
              "      }\n",
              "    </style>\n",
              "    <button class=\"colab-df-generate\" onclick=\"generateWithVariable('df')\"\n",
              "            title=\"Generate code using this dataframe.\"\n",
              "            style=\"display:none;\">\n",
              "\n",
              "  <svg xmlns=\"http://www.w3.org/2000/svg\" height=\"24px\"viewBox=\"0 0 24 24\"\n",
              "       width=\"24px\">\n",
              "    <path d=\"M7,19H8.4L18.45,9,17,7.55,7,17.6ZM5,21V16.75L18.45,3.32a2,2,0,0,1,2.83,0l1.4,1.43a1.91,1.91,0,0,1,.58,1.4,1.91,1.91,0,0,1-.58,1.4L9.25,21ZM18.45,9,17,7.55Zm-12,3A5.31,5.31,0,0,0,4.9,8.1,5.31,5.31,0,0,0,1,6.5,5.31,5.31,0,0,0,4.9,4.9,5.31,5.31,0,0,0,6.5,1,5.31,5.31,0,0,0,8.1,4.9,5.31,5.31,0,0,0,12,6.5,5.46,5.46,0,0,0,6.5,12Z\"/>\n",
              "  </svg>\n",
              "    </button>\n",
              "    <script>\n",
              "      (() => {\n",
              "      const buttonEl =\n",
              "        document.querySelector('#id_03a06b2f-0a41-42ee-b4bd-a0d663fe25e9 button.colab-df-generate');\n",
              "      buttonEl.style.display =\n",
              "        google.colab.kernel.accessAllowed ? 'block' : 'none';\n",
              "\n",
              "      buttonEl.onclick = () => {\n",
              "        google.colab.notebook.generateWithVariable('df');\n",
              "      }\n",
              "      })();\n",
              "    </script>\n",
              "  </div>\n",
              "\n",
              "    </div>\n",
              "  </div>\n"
            ],
            "application/vnd.google.colaboratory.intrinsic+json": {
              "type": "dataframe",
              "variable_name": "df",
              "summary": "{\n  \"name\": \"df\",\n  \"rows\": 10,\n  \"fields\": [\n    {\n      \"column\": \"Miles Traveled\",\n      \"properties\": {\n        \"dtype\": \"number\",\n        \"std\": 19,\n        \"min\": 44,\n        \"max\": 111,\n        \"num_unique_values\": 9,\n        \"samples\": [\n          109,\n          66,\n          77\n        ],\n        \"semantic_type\": \"\",\n        \"description\": \"\"\n      }\n    },\n    {\n      \"column\": \"Number of Deliveries\",\n      \"properties\": {\n        \"dtype\": \"number\",\n        \"std\": 1,\n        \"min\": 1,\n        \"max\": 6,\n        \"num_unique_values\": 6,\n        \"samples\": [\n          4,\n          1,\n          5\n        ],\n        \"semantic_type\": \"\",\n        \"description\": \"\"\n      }\n    },\n    {\n      \"column\": \"Gas Price\",\n      \"properties\": {\n        \"dtype\": \"number\",\n        \"std\": 0.2856201829158592,\n        \"min\": 3.03,\n        \"max\": 3.89,\n        \"num_unique_values\": 9,\n        \"samples\": [\n          3.54,\n          3.19,\n          3.03\n        ],\n        \"semantic_type\": \"\",\n        \"description\": \"\"\n      }\n    },\n    {\n      \"column\": \"Travel Time\",\n      \"properties\": {\n        \"dtype\": \"number\",\n        \"std\": 0.8672433978480961,\n        \"min\": 4.8,\n        \"max\": 7.4,\n        \"num_unique_values\": 8,\n        \"samples\": [\n          5.4,\n          6.4,\n          7.0\n        ],\n        \"semantic_type\": \"\",\n        \"description\": \"\"\n      }\n    }\n  ]\n}"
            }
          },
          "metadata": {},
          "execution_count": 5
        }
      ],
      "source": [
        "df"
      ]
    },
    {
      "cell_type": "markdown",
      "metadata": {
        "id": "0e7F0WCne-8o"
      },
      "source": [
        "## A. Correlation"
      ]
    },
    {
      "cell_type": "markdown",
      "metadata": {
        "id": "U08ybiFgMbQ7"
      },
      "source": [
        "### Check the relationships between each independent variable and the dependent variable using scatterplots and correlations."
      ]
    },
    {
      "cell_type": "markdown",
      "source": [
        "1. Create scatter plot between miles traveled and travel time"
      ],
      "metadata": {
        "id": "wRYSx_gUbb3N"
      }
    },
    {
      "cell_type": "code",
      "execution_count": 25,
      "metadata": {
        "id": "h7_ZHYhYDuSe",
        "colab": {
          "base_uri": "https://localhost:8080/",
          "height": 451
        },
        "outputId": "3de6f622-9201-4281-f28c-b6485a55fd1f"
      },
      "outputs": [
        {
          "output_type": "display_data",
          "data": {
            "text/plain": [
              "<Figure size 640x480 with 1 Axes>"
            ],
            "image/png": "[encoded data removed]"
          },
          "metadata": {}
        }
      ],
      "source": [
        "plt.scatter(df[\"Miles Traveled\"],\n",
        "            df[\"Travel Time\"])\n",
        "\n",
        "plt.xlabel(\"Miles Traveled\")\n",
        "plt.ylabel(\"Travel Time\")\n",
        "plt.show()"
      ]
    },
    {
      "cell_type": "markdown",
      "source": [
        "2. Create scatter plot between number of deliveries and travel time"
      ],
      "metadata": {
        "id": "VNOMGC4tblzn"
      }
    },
    {
      "cell_type": "code",
      "execution_count": 26,
      "metadata": {
        "id": "4HE-5zP9EFx0",
        "colab": {
          "base_uri": "https://localhost:8080/",
          "height": 451
        },
        "outputId": "6b32a3e5-0dbe-4e7c-fab2-aff45f578ba5"
      },
      "outputs": [
        {
          "output_type": "display_data",
          "data": {
            "text/plain": [
              "<Figure size 640x480 with 1 Axes>"
            ],
            "image/png": "[encoded data removed]"
          },
          "metadata": {}
        }
      ],
      "source": [
        "plt.scatter(df[\"Number of Deliveries\"],\n",
        "            df[\"Travel Time\"])\n",
        "\n",
        "plt.xlabel(\"Number of Deliveries\")\n",
        "plt.ylabel(\"Travel Time\")\n",
        "plt.show()"
      ]
    },
    {
      "cell_type": "markdown",
      "source": [
        "3. Create scatter plot between Gas Price and Travel time"
      ],
      "metadata": {
        "id": "MtjV8Zl5bquY"
      }
    },
    {
      "cell_type": "code",
      "execution_count": 27,
      "metadata": {
        "id": "kWtQ4QKcEeVU",
        "colab": {
          "base_uri": "https://localhost:8080/",
          "height": 451
        },
        "outputId": "eb951d57-8700-4572-e701-865bd42759b9"
      },
      "outputs": [
        {
          "output_type": "display_data",
          "data": {
            "text/plain": [
              "<Figure size 640x480 with 1 Axes>"
            ],
            "image/png": "[encoded data removed]"
          },
          "metadata": {}
        }
      ],
      "source": [
        "plt.scatter(df[\"Gas Price\"],\n",
        "            df[\"Travel Time\"])\n",
        "\n",
        "plt.xlabel(\"Gas Price\")\n",
        "plt.ylabel(\"Travel Time\")\n",
        "plt.show()\n",
        ""
      ]
    },
    {
      "cell_type": "markdown",
      "source": [
        "4. Create a pairplot"
      ],
      "metadata": {
        "id": "Y-5Oe1aTb1ML"
      }
    },
    {
      "cell_type": "code",
      "execution_count": 31,
      "metadata": {
        "id": "8eJqX_RXTFCA",
        "colab": {
          "base_uri": "https://localhost:8080/",
          "height": 824
        },
        "outputId": "0f52142a-d0eb-40e0-d5a6-3abf0dae3da1"
      },
      "outputs": [
        {
          "output_type": "execute_result",
          "data": {
            "text/plain": [
              "<seaborn.axisgrid.PairGrid at 0x7bbed25a3a00>"
            ]
          },
          "metadata": {},
          "execution_count": 31
        },
        {
          "output_type": "display_data",
          "data": {
            "text/plain": [
              "<Figure size 800x800 with 20 Axes>"
            ],
            "image/png": "[encoded data removed]"
          },
          "metadata": {}
        }
      ],
      "source": [
        "# Using seaborne Pairplot\n",
        "sns.set_palette('bright')\n",
        "sns.pairplot(data=df, height=2)"
      ]
    },
    {
      "cell_type": "markdown",
      "source": [
        "5. Calculate correlation coefficientand p-value between Miles Traveled and Travel Time"
      ],
      "metadata": {
        "id": "N2Cwy4EZb6CY"
      }
    },
    {
      "cell_type": "code",
      "execution_count": 32,
      "metadata": {
        "id": "z85FNuL3XykJ",
        "colab": {
          "base_uri": "https://localhost:8080/"
        },
        "outputId": "e4481c6b-aa4c-4a04-b5c5-a38516775270"
      },
      "outputs": [
        {
          "output_type": "stream",
          "name": "stdout",
          "text": [
            "Miles Traveled and Travel Time\n",
            "correlation coefficient: 0.928178500887476\n",
            "p-value: 0.00010667565429896801\n"
          ]
        }
      ],
      "source": [
        "result = pearsonr(df['Miles Traveled'], df['Travel Time'])\n",
        "print(\"Miles Traveled and Travel Time\")\n",
        "print(\"correlation coefficient:\", result[0])\n",
        "print(\"p-value:\", result[1])"
      ]
    },
    {
      "cell_type": "markdown",
      "source": [
        "6. Calculate correlation coefficient and p-value between Number of Deliveries and Travel Time"
      ],
      "metadata": {
        "id": "V0tmekGtcEBS"
      }
    },
    {
      "cell_type": "code",
      "execution_count": 33,
      "metadata": {
        "id": "V5GzGetxZyJj",
        "colab": {
          "base_uri": "https://localhost:8080/"
        },
        "outputId": "e00dbee7-f27d-47ab-e8cd-ba872bb08625"
      },
      "outputs": [
        {
          "output_type": "stream",
          "name": "stdout",
          "text": [
            "Number of Deliveries and Travel Time\n",
            "correlation coefficient: 0.9164433964470268\n",
            "p-value: 0.00019260878342962958\n"
          ]
        }
      ],
      "source": [
        "result = pearsonr(df['Number of Deliveries'], df['Travel Time'])\n",
        "print(\"Number of Deliveries and Travel Time\")\n",
        "print(\"correlation coefficient:\", result[0])\n",
        "print(\"p-value:\", result[1])"
      ]
    },
    {
      "cell_type": "markdown",
      "source": [
        "7. Calculate correlation coefficient and p-value between Gas Price and Travel Time"
      ],
      "metadata": {
        "id": "zt28PWuxcPNm"
      }
    },
    {
      "cell_type": "code",
      "execution_count": 34,
      "metadata": {
        "id": "i4XIek0XaF0H",
        "colab": {
          "base_uri": "https://localhost:8080/"
        },
        "outputId": "2cef89a8-e42f-49e3-c28a-84bf58b9a036"
      },
      "outputs": [
        {
          "output_type": "stream",
          "name": "stdout",
          "text": [
            "Gas Price and Travel Time\n",
            "correlation coefficient: 0.2672115310193847\n",
            "p-value: 0.45545341268508166\n"
          ]
        }
      ],
      "source": [
        "result = pearsonr(df['Gas Price'], df['Travel Time'])\n",
        "print(\"Gas Price and Travel Time\")\n",
        "print(\"correlation coefficient:\", result[0])\n",
        "print(\"p-value:\", result[1])"
      ]
    },
    {
      "cell_type": "markdown",
      "metadata": {
        "id": "m0LFj6GwMmmT"
      },
      "source": [
        "### Check the relationships among the independent variables using scatterplots and correlations."
      ]
    },
    {
      "cell_type": "markdown",
      "source": [
        "8. Create scatter plot between Miles Traveled and Number of Deliveries."
      ],
      "metadata": {
        "id": "KzhtMwk9cgUc"
      }
    },
    {
      "cell_type": "code",
      "execution_count": 35,
      "metadata": {
        "id": "fkCUT89bMsOo",
        "colab": {
          "base_uri": "https://localhost:8080/",
          "height": 449
        },
        "outputId": "f24e74de-12cc-4fc1-b815-06e081f387fe"
      },
      "outputs": [
        {
          "output_type": "display_data",
          "data": {
            "text/plain": [
              "<Figure size 640x480 with 1 Axes>"
            ],
            "image/png": "[encoded data removed]"
          },
          "metadata": {}
        }
      ],
      "source": [
        "plt.scatter(df[\"Miles Traveled\"],\n",
        "            df[\"Number of Deliveries\"])\n",
        "\n",
        "plt.xlabel(\"Miles Traveled\")\n",
        "plt.ylabel(\"Number of Deliveries\")\n",
        "plt.show()"
      ]
    },
    {
      "cell_type": "markdown",
      "source": [
        "9. Create scatter plot between Miles traveled and Gas Price"
      ],
      "metadata": {
        "id": "9Vt6fAWHcpNs"
      }
    },
    {
      "cell_type": "code",
      "execution_count": 37,
      "metadata": {
        "id": "FkwyhaaxMwOE",
        "colab": {
          "base_uri": "https://localhost:8080/",
          "height": 449
        },
        "outputId": "d61fddb1-0505-4146-cf27-cc353739ed13"
      },
      "outputs": [
        {
          "output_type": "display_data",
          "data": {
            "text/plain": [
              "<Figure size 640x480 with 1 Axes>"
            ],
            "image/png": "[encoded data removed]"
          },
          "metadata": {}
        }
      ],
      "source": [
        "plt.scatter(df[\"Miles Traveled\"],\n",
        "            df[\"Gas Price\"])\n",
        "\n",
        "plt.xlabel(\"Miles Traveled\")\n",
        "plt.ylabel(\"Gas Price\")\n",
        "plt.show()"
      ]
    },
    {
      "cell_type": "markdown",
      "source": [
        "10. Create scatter plot between Number of Deliveries and Gas Price"
      ],
      "metadata": {
        "id": "MLIy3oRecvZi"
      }
    },
    {
      "cell_type": "code",
      "execution_count": 38,
      "metadata": {
        "id": "e0rICg_lM3c3",
        "colab": {
          "base_uri": "https://localhost:8080/",
          "height": 449
        },
        "outputId": "b384d8dc-bad2-40f5-a829-c993bbfbae71"
      },
      "outputs": [
        {
          "output_type": "display_data",
          "data": {
            "text/plain": [
              "<Figure size 640x480 with 1 Axes>"
            ],
            "image/png": "[encoded data removed]"
          },
          "metadata": {}
        }
      ],
      "source": [
        "plt.scatter(df[\"Number of Deliveries\"],\n",
        "            df[\"Gas Price\"])\n",
        "\n",
        "plt.xlabel(\"Miles Traveled\")\n",
        "plt.ylabel(\"Gas Price\")\n",
        "plt.show()"
      ]
    },
    {
      "cell_type": "markdown",
      "source": [
        "11. Calculate correlation coefficient and p-value between Miles Traveled and Number of Deliveries"
      ],
      "metadata": {
        "id": "SQsY1LuLc7hj"
      }
    },
    {
      "cell_type": "code",
      "execution_count": 39,
      "metadata": {
        "id": "Gg16fgdqbPgf",
        "colab": {
          "base_uri": "https://localhost:8080/"
        },
        "outputId": "4fbe9d42-0bad-4a34-88e5-ba9a25e1a99f"
      },
      "outputs": [
        {
          "output_type": "stream",
          "name": "stdout",
          "text": [
            "Miles Traveled and Number of Deliveries\n",
            "correlation coefficient: 0.9558982066200347\n",
            "p-value: 1.5690314407660616e-05\n"
          ]
        }
      ],
      "source": [
        "result = pearsonr(df['Miles Traveled'], df['Number of Deliveries'])\n",
        "print(\"Miles Traveled and Number of Deliveries\")\n",
        "print(\"correlation coefficient:\", result[0])\n",
        "print(\"p-value:\", result[1])"
      ]
    },
    {
      "cell_type": "markdown",
      "source": [
        "12. Calculate correlation coefficient and p-value between Miles Traveled and Gas Price"
      ],
      "metadata": {
        "id": "gsHXLDy8dEd8"
      }
    },
    {
      "cell_type": "code",
      "execution_count": 40,
      "metadata": {
        "id": "1RLWTs82bb3t",
        "colab": {
          "base_uri": "https://localhost:8080/"
        },
        "outputId": "10d09e95-0163-42a1-8333-d0b3c5e964c1"
      },
      "outputs": [
        {
          "output_type": "stream",
          "name": "stdout",
          "text": [
            "Miles Traveled and Gas Price\n",
            "correlation coefficient: 0.35579623354708517\n",
            "p-value: 0.31296405908178965\n"
          ]
        }
      ],
      "source": [
        "result = pearsonr(df['Miles Traveled'], df['Gas Price'])\n",
        "print(\"Miles Traveled and Gas Price\")\n",
        "print(\"correlation coefficient:\", result[0])\n",
        "print(\"p-value:\", result[1])"
      ]
    },
    {
      "cell_type": "markdown",
      "source": [
        "13. Calculate correlation coefficient and p-value between Number of Deliveries and Gas Price"
      ],
      "metadata": {
        "id": "B9_ehI_TdGjv"
      }
    },
    {
      "cell_type": "code",
      "execution_count": 41,
      "metadata": {
        "id": "schBTh7hbmmw",
        "colab": {
          "base_uri": "https://localhost:8080/"
        },
        "outputId": "57aff5a3-7618-413f-bb8c-af01d4b1edf3"
      },
      "outputs": [
        {
          "output_type": "stream",
          "name": "stdout",
          "text": [
            "Number of Deliveries and Gas Price\n",
            "correlation coefficient: 0.4982421647401633\n",
            "p-value: 0.142741207670319\n"
          ]
        }
      ],
      "source": [
        "result = pearsonr(df['Number of Deliveries'], df['Gas Price'])\n",
        "print(\"Number of Deliveries and Gas Price\")\n",
        "print(\"correlation coefficient:\", result[0])\n",
        "print(\"p-value:\", result[1])\n"
      ]
    },
    {
      "cell_type": "markdown",
      "metadata": {
        "id": "7vtm7gQFc8Am"
      },
      "source": [
        "### Correlation Summary"
      ]
    },
    {
      "cell_type": "markdown",
      "source": [
        "14. Create the correlation summary"
      ],
      "metadata": {
        "id": "9ZkVzcUndOjU"
      }
    },
    {
      "cell_type": "code",
      "execution_count": 42,
      "metadata": {
        "id": "ti0mQdimO_S5",
        "colab": {
          "base_uri": "https://localhost:8080/",
          "height": 175
        },
        "outputId": "03fad3be-11a6-4068-ba84-b8131e47f7c6"
      },
      "outputs": [
        {
          "output_type": "execute_result",
          "data": {
            "text/plain": [
              "                      Miles Traveled  Number of Deliveries  Gas Price  \\\n",
              "Miles Traveled              1.000000              0.955898   0.355796   \n",
              "Number of Deliveries        0.955898              1.000000   0.498242   \n",
              "Gas Price                   0.355796              0.498242   1.000000   \n",
              "Travel Time                 0.928179              0.916443   0.267212   \n",
              "\n",
              "                      Travel Time  \n",
              "Miles Traveled           0.928179  \n",
              "Number of Deliveries     0.916443  \n",
              "Gas Price                0.267212  \n",
              "Travel Time              1.000000  "
            ],
            "text/html": [
              "\n",
              "  <div id=\"df-11987c9a-2b2a-46fb-afd0-16394b6c5cae\" class=\"colab-df-container\">\n",
              "    <div>\n",
              "<style scoped>\n",
              "    .dataframe tbody tr th:only-of-type {\n",
              "        vertical-align: middle;\n",
              "    }\n",
              "\n",
              "    .dataframe tbody tr th {\n",
              "        vertical-align: top;\n",
              "    }\n",
              "\n",
              "    .dataframe thead th {\n",
              "        text-align: right;\n",
              "    }\n",
              "</style>\n",
              "<table border=\"1\" class=\"dataframe\">\n",
              "  <thead>\n",
              "    <tr style=\"text-align: right;\">\n",
              "      <th></th>\n",
              "      <th>Miles Traveled</th>\n",
              "      <th>Number of Deliveries</th>\n",
              "      <th>Gas Price</th>\n",
              "      <th>Travel Time</th>\n",
              "    </tr>\n",
              "  </thead>\n",
              "  <tbody>\n",
              "    <tr>\n",
              "      <th>Miles Traveled</th>\n",
              "      <td>1.000000</td>\n",
              "      <td>0.955898</td>\n",
              "      <td>0.355796</td>\n",
              "      <td>0.928179</td>\n",
              "    </tr>\n",
              "    <tr>\n",
              "      <th>Number of Deliveries</th>\n",
              "      <td>0.955898</td>\n",
              "      <td>1.000000</td>\n",
              "      <td>0.498242</td>\n",
              "      <td>0.916443</td>\n",
              "    </tr>\n",
              "    <tr>\n",
              "      <th>Gas Price</th>\n",
              "      <td>0.355796</td>\n",
              "      <td>0.498242</td>\n",
              "      <td>1.000000</td>\n",
              "      <td>0.267212</td>\n",
              "    </tr>\n",
              "    <tr>\n",
              "      <th>Travel Time</th>\n",
              "      <td>0.928179</td>\n",
              "      <td>0.916443</td>\n",
              "      <td>0.267212</td>\n",
              "      <td>1.000000</td>\n",
              "    </tr>\n",
              "  </tbody>\n",
              "</table>\n",
              "</div>\n",
              "    <div class=\"colab-df-buttons\">\n",
              "\n",
              "  <div class=\"colab-df-container\">\n",
              "    <button class=\"colab-df-convert\" onclick=\"convertToInteractive('df-11987c9a-2b2a-46fb-afd0-16394b6c5cae')\"\n",
              "            title=\"Convert this dataframe to an interactive table.\"\n",
              "            style=\"display:none;\">\n",
              "\n",
              "  <svg xmlns=\"http://www.w3.org/2000/svg\" height=\"24px\" viewBox=\"0 -960 960 960\">\n",
              "    <path d=\"M120-120v-720h720v720H120Zm60-500h600v-160H180v160Zm220 220h160v-160H400v160Zm0 220h160v-160H400v160ZM180-400h160v-160H180v160Zm440 0h160v-160H620v160ZM180-180h160v-160H180v160Zm440 0h160v-160H620v160Z\"/>\n",
              "  </svg>\n",
              "    </button>\n",
              "\n",
              "  <style>\n",
              "    .colab-df-container {\n",
              "      display:flex;\n",
              "      gap: 12px;\n",
              "    }\n",
              "\n",
              "    .colab-df-convert {\n",
              "      background-color: #E8F0FE;\n",
              "      border: none;\n",
              "      border-radius: 50%;\n",
              "      cursor: pointer;\n",
              "      display: none;\n",
              "      fill: #1967D2;\n",
              "      height: 32px;\n",
              "      padding: 0 0 0 0;\n",
              "      width: 32px;\n",
              "    }\n",
              "\n",
              "    .colab-df-convert:hover {\n",
              "      background-color: #E2EBFA;\n",
              "      box-shadow: 0px 1px 2px rgba(60, 64, 67, 0.3), 0px 1px 3px 1px rgba(60, 64, 67, 0.15);\n",
              "      fill: #174EA6;\n",
              "    }\n",
              "\n",
              "    .colab-df-buttons div {\n",
              "      margin-bottom: 4px;\n",
              "    }\n",
              "\n",
              "    [theme=dark] .colab-df-convert {\n",
              "      background-color: #3B4455;\n",
              "      fill: #D2E3FC;\n",
              "    }\n",
              "\n",
              "    [theme=dark] .colab-df-convert:hover {\n",
              "      background-color: #434B5C;\n",
              "      box-shadow: 0px 1px 3px 1px rgba(0, 0, 0, 0.15);\n",
              "      filter: drop-shadow(0px 1px 2px rgba(0, 0, 0, 0.3));\n",
              "      fill: #FFFFFF;\n",
              "    }\n",
              "  </style>\n",
              "\n",
              "    <script>\n",
              "      const buttonEl =\n",
              "        document.querySelector('#df-11987c9a-2b2a-46fb-afd0-16394b6c5cae button.colab-df-convert');\n",
              "      buttonEl.style.display =\n",
              "        google.colab.kernel.accessAllowed ? 'block' : 'none';\n",
              "\n",
              "      async function convertToInteractive(key) {\n",
              "        const element = document.querySelector('#df-11987c9a-2b2a-46fb-afd0-16394b6c5cae');\n",
              "        const dataTable =\n",
              "          await google.colab.kernel.invokeFunction('convertToInteractive',\n",
              "                                                    [key], {});\n",
              "        if (!dataTable) return;\n",
              "\n",
              "        const docLinkHtml = 'Like what you see? Visit the ' +\n",
              "          '<a target=\"_blank\" href=https://colab.research.google.com/notebooks/data_table.ipynb>data table notebook</a>'\n",
              "          + ' to learn more about interactive tables.';\n",
              "        element.innerHTML = '';\n",
              "        dataTable['output_type'] = 'display_data';\n",
              "        await google.colab.output.renderOutput(dataTable, element);\n",
              "        const docLink = document.createElement('div');\n",
              "        docLink.innerHTML = docLinkHtml;\n",
              "        element.appendChild(docLink);\n",
              "      }\n",
              "    </script>\n",
              "  </div>\n",
              "\n",
              "\n",
              "<div id=\"df-a16f6c00-fcb0-4631-beb9-7af0232c3781\">\n",
              "  <button class=\"colab-df-quickchart\" onclick=\"quickchart('df-a16f6c00-fcb0-4631-beb9-7af0232c3781')\"\n",
              "            title=\"Suggest charts\"\n",
              "            style=\"display:none;\">\n",
              "\n",
              "<svg xmlns=\"http://www.w3.org/2000/svg\" height=\"24px\"viewBox=\"0 0 24 24\"\n",
              "     width=\"24px\">\n",
              "    <g>\n",
              "        <path d=\"M19 3H5c-1.1 0-2 .9-2 2v14c0 1.1.9 2 2 2h14c1.1 0 2-.9 2-2V5c0-1.1-.9-2-2-2zM9 17H7v-7h2v7zm4 0h-2V7h2v10zm4 0h-2v-4h2v4z\"/>\n",
              "    </g>\n",
              "</svg>\n",
              "  </button>\n",
              "\n",
              "<style>\n",
              "  .colab-df-quickchart {\n",
              "      --bg-color: #E8F0FE;\n",
              "      --fill-color: #1967D2;\n",
              "      --hover-bg-color: #E2EBFA;\n",
              "      --hover-fill-color: #174EA6;\n",
              "      --disabled-fill-color: #AAA;\n",
              "      --disabled-bg-color: #DDD;\n",
              "  }\n",
              "\n",
              "  [theme=dark] .colab-df-quickchart {\n",
              "      --bg-color: #3B4455;\n",
              "      --fill-color: #D2E3FC;\n",
              "      --hover-bg-color: #434B5C;\n",
              "      --hover-fill-color: #FFFFFF;\n",
              "      --disabled-bg-color: #3B4455;\n",
              "      --disabled-fill-color: #666;\n",
              "  }\n",
              "\n",
              "  .colab-df-quickchart {\n",
              "    background-color: var(--bg-color);\n",
              "    border: none;\n",
              "    border-radius: 50%;\n",
              "    cursor: pointer;\n",
              "    display: none;\n",
              "    fill: var(--fill-color);\n",
              "    height: 32px;\n",
              "    padding: 0;\n",
              "    width: 32px;\n",
              "  }\n",
              "\n",
              "  .colab-df-quickchart:hover {\n",
              "    background-color: var(--hover-bg-color);\n",
              "    box-shadow: 0 1px 2px rgba(60, 64, 67, 0.3), 0 1px 3px 1px rgba(60, 64, 67, 0.15);\n",
              "    fill: var(--button-hover-fill-color);\n",
              "  }\n",
              "\n",
              "  .colab-df-quickchart-complete:disabled,\n",
              "  .colab-df-quickchart-complete:disabled:hover {\n",
              "    background-color: var(--disabled-bg-color);\n",
              "    fill: var(--disabled-fill-color);\n",
              "    box-shadow: none;\n",
              "  }\n",
              "\n",
              "  .colab-df-spinner {\n",
              "    border: 2px solid var(--fill-color);\n",
              "    border-color: transparent;\n",
              "    border-bottom-color: var(--fill-color);\n",
              "    animation:\n",
              "      spin 1s steps(1) infinite;\n",
              "  }\n",
              "\n",
              "  @keyframes spin {\n",
              "    0% {\n",
              "      border-color: transparent;\n",
              "      border-bottom-color: var(--fill-color);\n",
              "      border-left-color: var(--fill-color);\n",
              "    }\n",
              "    20% {\n",
              "      border-color: transparent;\n",
              "      border-left-color: var(--fill-color);\n",
              "      border-top-color: var(--fill-color);\n",
              "    }\n",
              "    30% {\n",
              "      border-color: transparent;\n",
              "      border-left-color: var(--fill-color);\n",
              "      border-top-color: var(--fill-color);\n",
              "      border-right-color: var(--fill-color);\n",
              "    }\n",
              "    40% {\n",
              "      border-color: transparent;\n",
              "      border-right-color: var(--fill-color);\n",
              "      border-top-color: var(--fill-color);\n",
              "    }\n",
              "    60% {\n",
              "      border-color: transparent;\n",
              "      border-right-color: var(--fill-color);\n",
              "    }\n",
              "    80% {\n",
              "      border-color: transparent;\n",
              "      border-right-color: var(--fill-color);\n",
              "      border-bottom-color: var(--fill-color);\n",
              "    }\n",
              "    90% {\n",
              "      border-color: transparent;\n",
              "      border-bottom-color: var(--fill-color);\n",
              "    }\n",
              "  }\n",
              "</style>\n",
              "\n",
              "  <script>\n",
              "    async function quickchart(key) {\n",
              "      const quickchartButtonEl =\n",
              "        document.querySelector('#' + key + ' button');\n",
              "      quickchartButtonEl.disabled = true;  // To prevent multiple clicks.\n",
              "      quickchartButtonEl.classList.add('colab-df-spinner');\n",
              "      try {\n",
              "        const charts = await google.colab.kernel.invokeFunction(\n",
              "            'suggestCharts', [key], {});\n",
              "      } catch (error) {\n",
              "        console.error('Error during call to suggestCharts:', error);\n",
              "      }\n",
              "      quickchartButtonEl.classList.remove('colab-df-spinner');\n",
              "      quickchartButtonEl.classList.add('colab-df-quickchart-complete');\n",
              "    }\n",
              "    (() => {\n",
              "      let quickchartButtonEl =\n",
              "        document.querySelector('#df-a16f6c00-fcb0-4631-beb9-7af0232c3781 button');\n",
              "      quickchartButtonEl.style.display =\n",
              "        google.colab.kernel.accessAllowed ? 'block' : 'none';\n",
              "    })();\n",
              "  </script>\n",
              "</div>\n",
              "\n",
              "  <div id=\"id_1ffc89e9-3535-4d8b-8f0c-4f5df7feb02b\">\n",
              "    <style>\n",
              "      .colab-df-generate {\n",
              "        background-color: #E8F0FE;\n",
              "        border: none;\n",
              "        border-radius: 50%;\n",
              "        cursor: pointer;\n",
              "        display: none;\n",
              "        fill: #1967D2;\n",
              "        height: 32px;\n",
              "        padding: 0 0 0 0;\n",
              "        width: 32px;\n",
              "      }\n",
              "\n",
              "      .colab-df-generate:hover {\n",
              "        background-color: #E2EBFA;\n",
              "        box-shadow: 0px 1px 2px rgba(60, 64, 67, 0.3), 0px 1px 3px 1px rgba(60, 64, 67, 0.15);\n",
              "        fill: #174EA6;\n",
              "      }\n",
              "\n",
              "      [theme=dark] .colab-df-generate {\n",
              "        background-color: #3B4455;\n",
              "        fill: #D2E3FC;\n",
              "      }\n",
              "\n",
              "      [theme=dark] .colab-df-generate:hover {\n",
              "        background-color: #434B5C;\n",
              "        box-shadow: 0px 1px 3px 1px rgba(0, 0, 0, 0.15);\n",
              "        filter: drop-shadow(0px 1px 2px rgba(0, 0, 0, 0.3));\n",
              "        fill: #FFFFFF;\n",
              "      }\n",
              "    </style>\n",
              "    <button class=\"colab-df-generate\" onclick=\"generateWithVariable('correlation')\"\n",
              "            title=\"Generate code using this dataframe.\"\n",
              "            style=\"display:none;\">\n",
              "\n",
              "  <svg xmlns=\"http://www.w3.org/2000/svg\" height=\"24px\"viewBox=\"0 0 24 24\"\n",
              "       width=\"24px\">\n",
              "    <path d=\"M7,19H8.4L18.45,9,17,7.55,7,17.6ZM5,21V16.75L18.45,3.32a2,2,0,0,1,2.83,0l1.4,1.43a1.91,1.91,0,0,1,.58,1.4,1.91,1.91,0,0,1-.58,1.4L9.25,21ZM18.45,9,17,7.55Zm-12,3A5.31,5.31,0,0,0,4.9,8.1,5.31,5.31,0,0,0,1,6.5,5.31,5.31,0,0,0,4.9,4.9,5.31,5.31,0,0,0,6.5,1,5.31,5.31,0,0,0,8.1,4.9,5.31,5.31,0,0,0,12,6.5,5.46,5.46,0,0,0,6.5,12Z\"/>\n",
              "  </svg>\n",
              "    </button>\n",
              "    <script>\n",
              "      (() => {\n",
              "      const buttonEl =\n",
              "        document.querySelector('#id_1ffc89e9-3535-4d8b-8f0c-4f5df7feb02b button.colab-df-generate');\n",
              "      buttonEl.style.display =\n",
              "        google.colab.kernel.accessAllowed ? 'block' : 'none';\n",
              "\n",
              "      buttonEl.onclick = () => {\n",
              "        google.colab.notebook.generateWithVariable('correlation');\n",
              "      }\n",
              "      })();\n",
              "    </script>\n",
              "  </div>\n",
              "\n",
              "    </div>\n",
              "  </div>\n"
            ],
            "application/vnd.google.colaboratory.intrinsic+json": {
              "type": "dataframe",
              "variable_name": "correlation",
              "summary": "{\n  \"name\": \"correlation\",\n  \"rows\": 4,\n  \"fields\": [\n    {\n      \"column\": \"Miles Traveled\",\n      \"properties\": {\n        \"dtype\": \"number\",\n        \"std\": 0.3042222335678165,\n        \"min\": 0.35579623354708545,\n        \"max\": 1.0,\n        \"num_unique_values\": 4,\n        \"samples\": [\n          0.9558982066200346,\n          0.9281785008874762,\n          1.0\n        ],\n        \"semantic_type\": \"\",\n        \"description\": \"\"\n      }\n    },\n    {\n      \"column\": \"Number of Deliveries\",\n      \"properties\": {\n        \"dtype\": \"number\",\n        \"std\": 0.23212525432356396,\n        \"min\": 0.49824216474016353,\n        \"max\": 1.0,\n        \"num_unique_values\": 4,\n        \"samples\": [\n          1.0,\n          0.916443396447027,\n          0.9558982066200346\n        ],\n        \"semantic_type\": \"\",\n        \"description\": \"\"\n      }\n    },\n    {\n      \"column\": \"Gas Price\",\n      \"properties\": {\n        \"dtype\": \"number\",\n        \"std\": 0.3272679336543328,\n        \"min\": 0.2672115310193848,\n        \"max\": 1.0,\n        \"num_unique_values\": 4,\n        \"samples\": [\n          0.49824216474016353,\n          0.2672115310193848,\n          0.35579623354708545\n        ],\n        \"semantic_type\": \"\",\n        \"description\": \"\"\n      }\n    },\n    {\n      \"column\": \"Travel Time\",\n      \"properties\": {\n        \"dtype\": \"number\",\n        \"std\": 0.3424952599456091,\n        \"min\": 0.2672115310193848,\n        \"max\": 1.0,\n        \"num_unique_values\": 4,\n        \"samples\": [\n          0.916443396447027,\n          1.0,\n          0.9281785008874762\n        ],\n        \"semantic_type\": \"\",\n        \"description\": \"\"\n      }\n    }\n  ]\n}"
            }
          },
          "metadata": {},
          "execution_count": 42
        }
      ],
      "source": [
        "correlation = df.corr()\n",
        "correlation"
      ]
    },
    {
      "cell_type": "markdown",
      "source": [
        "15. Create a heatmap"
      ],
      "metadata": {
        "id": "OCcEP5K6dRib"
      }
    },
    {
      "cell_type": "code",
      "execution_count": 44,
      "metadata": {
        "id": "L-DI2aktPQSS",
        "colab": {
          "base_uri": "https://localhost:8080/",
          "height": 568
        },
        "outputId": "cb3d1e01-ea08-42c7-f706-2fab652ca410"
      },
      "outputs": [
        {
          "output_type": "display_data",
          "data": {
            "text/plain": [
              "<Figure size 640x480 with 2 Axes>"
            ],
            "image/png": "[encoded data removed]"
          },
          "metadata": {}
        }
      ],
      "source": [
        "sns.heatmap(correlation, annot=True, vmin=-1, vmax=1, center=0, cmap=\"mako\")\n",
        "plt.show()"
      ]
    },
    {
      "cell_type": "markdown",
      "metadata": {
        "id": "yYiArptLfGIV"
      },
      "source": [
        "## Building Different Regression Models"
      ]
    },
    {
      "cell_type": "markdown",
      "metadata": {
        "id": "NJ4wex8RjsK2"
      },
      "source": [
        "### Model 1: Miles Traveled and Travel Time"
      ]
    },
    {
      "cell_type": "markdown",
      "source": [
        "16. Set independent and dependent variables"
      ],
      "metadata": {
        "id": "nl_sTh3Hd74j"
      }
    },
    {
      "cell_type": "code",
      "execution_count": 45,
      "metadata": {
        "id": "hQWfifH-fpKT"
      },
      "outputs": [],
      "source": [
        "X = df[['Miles Traveled']]\n",
        "X = sm.add_constant(X)\n",
        "y = df['Travel Time']"
      ]
    },
    {
      "cell_type": "markdown",
      "source": [
        "17. Build and train the model"
      ],
      "metadata": {
        "id": "xErHUNUCeEy5"
      }
    },
    {
      "cell_type": "code",
      "execution_count": 46,
      "metadata": {
        "id": "8Z5ntKuxlYRY",
        "colab": {
          "base_uri": "https://localhost:8080/"
        },
        "outputId": "b9d0d00a-a2c1-4395-d939-860968b6ac2e"
      },
      "outputs": [
        {
          "output_type": "stream",
          "name": "stdout",
          "text": [
            "Intercept: 3.1855602489995554\n",
            "Coefficients: [0.         0.04025678]\n"
          ]
        }
      ],
      "source": [
        "mlr_model = LinearRegression()\n",
        "\n",
        "mlr_model.fit(X, y)\n",
        "\n",
        "y_pred = mlr_model.predict(X)\n",
        "print('Intercept:', mlr_model.intercept_)\n",
        "print('Coefficients:', mlr_model.coef_)"
      ]
    },
    {
      "cell_type": "markdown",
      "source": [
        "18. Display the statistical summary"
      ],
      "metadata": {
        "id": "WHoGr0cIeLtw"
      }
    },
    {
      "cell_type": "code",
      "execution_count": 47,
      "metadata": {
        "id": "EfMmKYwghZCl",
        "colab": {
          "base_uri": "https://localhost:8080/",
          "height": 486
        },
        "outputId": "a86b2390-7f7e-4237-ae98-c99d9d19fdd8"
      },
      "outputs": [
        {
          "output_type": "stream",
          "name": "stderr",
          "text": [
            "/usr/local/lib/python3.10/dist-packages/scipy/stats/_axis_nan_policy.py:531: UserWarning: kurtosistest only valid for n>=20 ... continuing anyway, n=10\n",
            "  res = hypotest_fun_out(*samples, **kwds)\n"
          ]
        },
        {
          "output_type": "execute_result",
          "data": {
            "text/plain": [
              "<class 'statsmodels.iolib.summary.Summary'>\n",
              "\"\"\"\n",
              "                            OLS Regression Results                            \n",
              "==============================================================================\n",
              "Dep. Variable:            Travel Time   R-squared:                       0.862\n",
              "Model:                            OLS   Adj. R-squared:                  0.844\n",
              "Method:                 Least Squares   F-statistic:                     49.77\n",
              "Date:                Fri, 06 Sep 2024   Prob (F-statistic):           0.000107\n",
              "Time:                        09:21:27   Log-Likelihood:                -2.3532\n",
              "No. Observations:                  10   AIC:                             8.706\n",
              "Df Residuals:                       8   BIC:                             9.312\n",
              "Df Model:                           1                                         \n",
              "Covariance Type:            nonrobust                                         \n",
              "==================================================================================\n",
              "                     coef    std err          t      P>|t|      [0.025      0.975]\n",
              "----------------------------------------------------------------------------------\n",
              "const              3.1856      0.467      6.822      0.000       2.109       4.262\n",
              "Miles Traveled     0.0403      0.006      7.055      0.000       0.027       0.053\n",
              "==============================================================================\n",
              "Omnibus:                        0.542   Durbin-Watson:                   2.608\n",
              "Prob(Omnibus):                  0.763   Jarque-Bera (JB):                0.554\n",
              "Skew:                           0.370   Prob(JB):                        0.758\n",
              "Kurtosis:                       2.115   Cond. No.                         353.\n",
              "==============================================================================\n",
              "\n",
              "Notes:\n",
              "[1] Standard Errors assume that the covariance matrix of the errors is correctly specified.\n",
              "\"\"\""
            ],
            "text/html": [
              "<table class=\"simpletable\">\n",
              "<caption>OLS Regression Results</caption>\n",
              "<tr>\n",
              "  <th>Dep. Variable:</th>       <td>Travel Time</td>   <th>  R-squared:         </th> <td>   0.862</td>\n",
              "</tr>\n",
              "<tr>\n",
              "  <th>Model:</th>                   <td>OLS</td>       <th>  Adj. R-squared:    </th> <td>   0.844</td>\n",
              "</tr>\n",
              "<tr>\n",
              "  <th>Method:</th>             <td>Least Squares</td>  <th>  F-statistic:       </th> <td>   49.77</td>\n",
              "</tr>\n",
              "<tr>\n",
              "  <th>Date:</th>             <td>Fri, 06 Sep 2024</td> <th>  Prob (F-statistic):</th> <td>0.000107</td>\n",
              "</tr>\n",
              "<tr>\n",
              "  <th>Time:</th>                 <td>09:21:27</td>     <th>  Log-Likelihood:    </th> <td> -2.3532</td>\n",
              "</tr>\n",
              "<tr>\n",
              "  <th>No. Observations:</th>      <td>    10</td>      <th>  AIC:               </th> <td>   8.706</td>\n",
              "</tr>\n",
              "<tr>\n",
              "  <th>Df Residuals:</th>          <td>     8</td>      <th>  BIC:               </th> <td>   9.312</td>\n",
              "</tr>\n",
              "<tr>\n",
              "  <th>Df Model:</th>              <td>     1</td>      <th>                     </th>     <td> </td>   \n",
              "</tr>\n",
              "<tr>\n",
              "  <th>Covariance Type:</th>      <td>nonrobust</td>    <th>                     </th>     <td> </td>   \n",
              "</tr>\n",
              "</table>\n",
              "<table class=\"simpletable\">\n",
              "<tr>\n",
              "         <td></td>           <th>coef</th>     <th>std err</th>      <th>t</th>      <th>P>|t|</th>  <th>[0.025</th>    <th>0.975]</th>  \n",
              "</tr>\n",
              "<tr>\n",
              "  <th>const</th>          <td>    3.1856</td> <td>    0.467</td> <td>    6.822</td> <td> 0.000</td> <td>    2.109</td> <td>    4.262</td>\n",
              "</tr>\n",
              "<tr>\n",
              "  <th>Miles Traveled</th> <td>    0.0403</td> <td>    0.006</td> <td>    7.055</td> <td> 0.000</td> <td>    0.027</td> <td>    0.053</td>\n",
              "</tr>\n",
              "</table>\n",
              "<table class=\"simpletable\">\n",
              "<tr>\n",
              "  <th>Omnibus:</th>       <td> 0.542</td> <th>  Durbin-Watson:     </th> <td>   2.608</td>\n",
              "</tr>\n",
              "<tr>\n",
              "  <th>Prob(Omnibus):</th> <td> 0.763</td> <th>  Jarque-Bera (JB):  </th> <td>   0.554</td>\n",
              "</tr>\n",
              "<tr>\n",
              "  <th>Skew:</th>          <td> 0.370</td> <th>  Prob(JB):          </th> <td>   0.758</td>\n",
              "</tr>\n",
              "<tr>\n",
              "  <th>Kurtosis:</th>      <td> 2.115</td> <th>  Cond. No.          </th> <td>    353.</td>\n",
              "</tr>\n",
              "</table><br/><br/>Notes:<br/>[1] Standard Errors assume that the covariance matrix of the errors is correctly specified."
            ],
            "text/latex": "\\begin{center}\n\\begin{tabular}{lclc}\n\\toprule\n\\textbf{Dep. Variable:}    &   Travel Time    & \\textbf{  R-squared:         } &     0.862   \\\\\n\\textbf{Model:}            &       OLS        & \\textbf{  Adj. R-squared:    } &     0.844   \\\\\n\\textbf{Method:}           &  Least Squares   & \\textbf{  F-statistic:       } &     49.77   \\\\\n\\textbf{Date:}             & Fri, 06 Sep 2024 & \\textbf{  Prob (F-statistic):} &  0.000107   \\\\\n\\textbf{Time:}             &     09:21:27     & \\textbf{  Log-Likelihood:    } &   -2.3532   \\\\\n\\textbf{No. Observations:} &          10      & \\textbf{  AIC:               } &     8.706   \\\\\n\\textbf{Df Residuals:}     &           8      & \\textbf{  BIC:               } &     9.312   \\\\\n\\textbf{Df Model:}         &           1      & \\textbf{                     } &             \\\\\n\\textbf{Covariance Type:}  &    nonrobust     & \\textbf{                     } &             \\\\\n\\bottomrule\n\\end{tabular}\n\\begin{tabular}{lcccccc}\n                        & \\textbf{coef} & \\textbf{std err} & \\textbf{t} & \\textbf{P$> |$t$|$} & \\textbf{[0.025} & \\textbf{0.975]}  \\\\\n\\midrule\n\\textbf{const}          &       3.1856  &        0.467     &     6.822  &         0.000        &        2.109    &        4.262     \\\\\n\\textbf{Miles Traveled} &       0.0403  &        0.006     &     7.055  &         0.000        &        0.027    &        0.053     \\\\\n\\bottomrule\n\\end{tabular}\n\\begin{tabular}{lclc}\n\\textbf{Omnibus:}       &  0.542 & \\textbf{  Durbin-Watson:     } &    2.608  \\\\\n\\textbf{Prob(Omnibus):} &  0.763 & \\textbf{  Jarque-Bera (JB):  } &    0.554  \\\\\n\\textbf{Skew:}          &  0.370 & \\textbf{  Prob(JB):          } &    0.758  \\\\\n\\textbf{Kurtosis:}      &  2.115 & \\textbf{  Cond. No.          } &     353.  \\\\\n\\bottomrule\n\\end{tabular}\n%\\caption{OLS Regression Results}\n\\end{center}\n\nNotes: \\newline\n [1] Standard Errors assume that the covariance matrix of the errors is correctly specified."
          },
          "metadata": {},
          "execution_count": 47
        }
      ],
      "source": [
        "olsmod = sm.OLS(y, X).fit()\n",
        "olsmod.summary()"
      ]
    },
    {
      "cell_type": "markdown",
      "source": [
        "19. Display the r-squared"
      ],
      "metadata": {
        "id": "B18yQqOahz7E"
      }
    },
    {
      "cell_type": "code",
      "execution_count": 48,
      "metadata": {
        "id": "sZ8sTmV8hv3P",
        "colab": {
          "base_uri": "https://localhost:8080/"
        },
        "outputId": "1e1b8e52-225f-4279-e6b8-a3f30663deac"
      },
      "outputs": [
        {
          "output_type": "stream",
          "name": "stdout",
          "text": [
            "0.8615153295097224\n"
          ]
        }
      ],
      "source": [
        "print(olsmod.rsquared)"
      ]
    },
    {
      "cell_type": "markdown",
      "source": [
        "MODELS"
      ],
      "metadata": {
        "id": "vghv_97wp6_P"
      }
    },
    {
      "cell_type": "code",
      "source": [
        "X = df[['Number of Deliveries']]\n",
        "X = sm.add_constant(X)\n",
        "y = df['Travel Time']\n",
        "\n",
        "mlr_model = LinearRegression()\n",
        "\n",
        "mlr_model.fit(X, y)\n",
        "\n",
        "y_pred = mlr_model.predict(X)\n",
        "print('Intercept:', mlr_model.intercept_)\n",
        "print('Coefficients:', mlr_model.coef_)\n",
        "\n",
        "olsmod = sm.OLS(y, X).fit()\n",
        "olsmod.summary()\n",
        "\n",
        "print(olsmod.rsquared)"
      ],
      "metadata": {
        "colab": {
          "base_uri": "https://localhost:8080/"
        },
        "id": "IuQlu6Hgp3-t",
        "outputId": "ab3edf29-5ef0-47cc-c8dd-c9ade7bf7cf5"
      },
      "execution_count": 51,
      "outputs": [
        {
          "output_type": "stream",
          "name": "stdout",
          "text": [
            "Intercept: 4.84541484716157\n",
            "Coefficients: [0.         0.49825328]\n",
            "0.8398684988913625\n"
          ]
        },
        {
          "output_type": "stream",
          "name": "stderr",
          "text": [
            "/usr/local/lib/python3.10/dist-packages/scipy/stats/_axis_nan_policy.py:531: UserWarning: kurtosistest only valid for n>=20 ... continuing anyway, n=10\n",
            "  res = hypotest_fun_out(*samples, **kwds)\n"
          ]
        }
      ]
    },
    {
      "cell_type": "code",
      "source": [
        "X = df[['Gas Price']]\n",
        "X = sm.add_constant(X)\n",
        "y = df['Travel Time']\n",
        "\n",
        "mlr_model = LinearRegression()\n",
        "\n",
        "mlr_model.fit(X, y)\n",
        "\n",
        "y_pred = mlr_model.predict(X)\n",
        "print('Intercept:', mlr_model.intercept_)\n",
        "print('Coefficients:', mlr_model.coef_)\n",
        "\n",
        "olsmod = sm.OLS(y, X).fit()\n",
        "olsmod.summary()\n",
        "\n",
        "print(olsmod.rsquared)"
      ],
      "metadata": {
        "colab": {
          "base_uri": "https://localhost:8080/"
        },
        "id": "OwhUgmGuqs8L",
        "outputId": "34c9e320-f863-4378-a2ec-d669ce8c7398"
      },
      "execution_count": 52,
      "outputs": [
        {
          "output_type": "stream",
          "name": "stdout",
          "text": [
            "Intercept: 3.536488198199421\n",
            "Coefficients: [0.         0.81134825]\n",
            "0.07140200230972338\n"
          ]
        },
        {
          "output_type": "stream",
          "name": "stderr",
          "text": [
            "/usr/local/lib/python3.10/dist-packages/scipy/stats/_axis_nan_policy.py:531: UserWarning: kurtosistest only valid for n>=20 ... continuing anyway, n=10\n",
            "  res = hypotest_fun_out(*samples, **kwds)\n"
          ]
        }
      ]
    },
    {
      "cell_type": "code",
      "source": [
        "X = df[['Gas Price', 'Number of Deliveries']]\n",
        "X = sm.add_constant(X)\n",
        "y = df['Travel Time']\n",
        "\n",
        "mlr_model = LinearRegression()\n",
        "\n",
        "mlr_model.fit(X, y)\n",
        "\n",
        "y_pred = mlr_model.predict(X)\n",
        "print('Intercept:', mlr_model.intercept_)\n",
        "print('Coefficients:', mlr_model.coef_)\n",
        "\n",
        "olsmod = sm.OLS(y, X).fit()\n",
        "olsmod.summary()\n",
        "\n",
        "print(olsmod.rsquared)"
      ],
      "metadata": {
        "colab": {
          "base_uri": "https://localhost:8080/"
        },
        "id": "GiUfOw-Xq43D",
        "outputId": "a24bb787-490b-4dca-d59c-857d2b78a3d4"
      },
      "execution_count": 53,
      "outputs": [
        {
          "output_type": "stream",
          "name": "stdout",
          "text": [
            "Intercept: 7.324307017016418\n",
            "Coefficients: [ 0.         -0.76498707  0.56650081]\n",
            "0.8875862701921511\n"
          ]
        },
        {
          "output_type": "stream",
          "name": "stderr",
          "text": [
            "/usr/local/lib/python3.10/dist-packages/scipy/stats/_axis_nan_policy.py:531: UserWarning: kurtosistest only valid for n>=20 ... continuing anyway, n=10\n",
            "  res = hypotest_fun_out(*samples, **kwds)\n"
          ]
        }
      ]
    },
    {
      "cell_type": "code",
      "source": [
        "X = df[['Miles Traveled','Gas Price']]\n",
        "X = sm.add_constant(X)\n",
        "y = df['Travel Time']\n",
        "\n",
        "mlr_model = LinearRegression()\n",
        "\n",
        "mlr_model.fit(X, y)\n",
        "\n",
        "y_pred = mlr_model.predict(X)\n",
        "print('Intercept:', mlr_model.intercept_)\n",
        "print('Coefficients:', mlr_model.coef_)\n",
        "\n",
        "olsmod = sm.OLS(y, X).fit()\n",
        "olsmod.summary()\n",
        "\n",
        "print(olsmod.rsquared)"
      ],
      "metadata": {
        "colab": {
          "base_uri": "https://localhost:8080/"
        },
        "id": "ZX7IJVLGq-y8",
        "outputId": "4c3089fa-2985-43a9-8146-4fc845223013"
      },
      "execution_count": 54,
      "outputs": [
        {
          "output_type": "stream",
          "name": "stdout",
          "text": [
            "Intercept: 3.867569888312455\n",
            "Coefficients: [ 0.          0.04137042 -0.21912293]\n",
            "0.8660640485080335\n"
          ]
        },
        {
          "output_type": "stream",
          "name": "stderr",
          "text": [
            "/usr/local/lib/python3.10/dist-packages/scipy/stats/_axis_nan_policy.py:531: UserWarning: kurtosistest only valid for n>=20 ... continuing anyway, n=10\n",
            "  res = hypotest_fun_out(*samples, **kwds)\n"
          ]
        }
      ]
    },
    {
      "cell_type": "code",
      "source": [
        "X = df[['Miles Traveled', 'Number of Deliveries', 'Gas Price']]\n",
        "X = sm.add_constant(X)\n",
        "y = df['Travel Time']\n",
        "\n",
        "mlr_model = LinearRegression()\n",
        "\n",
        "mlr_model.fit(X, y)\n",
        "\n",
        "y_pred = mlr_model.predict(X)\n",
        "print('Intercept:', mlr_model.intercept_)\n",
        "print('Coefficients:', mlr_model.coef_)\n",
        "\n",
        "olsmod = sm.OLS(y, X).fit()\n",
        "olsmod.summary()\n",
        "\n",
        "print(olsmod.rsquared)"
      ],
      "metadata": {
        "colab": {
          "base_uri": "https://localhost:8080/"
        },
        "id": "xnQFCDGVrHYS",
        "outputId": "9a0a28cf-623f-4db3-d9e2-1f15173752ba"
      },
      "execution_count": 56,
      "outputs": [
        {
          "output_type": "stream",
          "name": "stdout",
          "text": [
            "Intercept: 6.211377663979402\n",
            "Coefficients: [ 0.          0.01412189  0.38315024 -0.60655271]\n",
            "0.8946842692569462\n"
          ]
        },
        {
          "output_type": "stream",
          "name": "stderr",
          "text": [
            "/usr/local/lib/python3.10/dist-packages/scipy/stats/_axis_nan_policy.py:531: UserWarning: kurtosistest only valid for n>=20 ... continuing anyway, n=10\n",
            "  res = hypotest_fun_out(*samples, **kwds)\n"
          ]
        }
      ]
    }
  ],
  "metadata": {
    "colab": {
      "provenance": [],
      "include_colab_link": true
    },
    "kernelspec": {
      "display_name": "Python 3",
      "name": "python3"
    },
    "language_info": {
      "name": "python"
    }
  },
  "nbformat": 4,
  "nbformat_minor": 0
}